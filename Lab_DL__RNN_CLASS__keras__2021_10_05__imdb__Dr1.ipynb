{
  "cells": [
    {
      "cell_type": "markdown",
      "metadata": {
        "id": "PBFqSEkKqpCN"
      },
      "source": [
        "# Lab Deep Learning/ Recurrent Neural Networks/ in keras\n",
        "\n",
        "## Using Many-to-One for movie rating predicton\n",
        "\n",
        "**Author: geoffroy.peeters@telecom-paris.fr**\n",
        "\n",
        "**Version**: 2021/10/05 (changed to tensorfow.keras)\n",
        "\n",
        "For any remark or suggestion, please feel free to contact me.\n",
        "\n",
        "## Objective:\n",
        "We will implement two different networks to perform automatic rating (0 or 1) of a movie given the text of its review.\n",
        "We will use the ```imdb``` (internet movie database) dataset.\n",
        "\n",
        "The reviews are already available in the form of indexes that point to a word dictionary: each word is already encoded as an index in the dictionary."
      ]
    },
    {
      "cell_type": "markdown",
      "metadata": {
        "id": "QmkCSNaXLqjh"
      },
      "source": [
        "## Import packages"
      ]
    },
    {
      "cell_type": "code",
      "execution_count": 41,
      "metadata": {
        "id": "AOqjzDwioJj9"
      },
      "outputs": [],
      "source": [
        "import numpy as np\n",
        "from tensorflow.keras.datasets import imdb\n",
        "\n",
        "from tensorflow.keras import backend as K\n",
        "from tensorflow.keras import Model\n",
        "from tensorflow.keras.models import Sequential\n",
        "from tensorflow.keras.preprocessing import sequence\n",
        "from tensorflow.keras.layers import Dense, Activation, Embedding, Dropout, Input, LSTM, Reshape, Lambda, RepeatVector,Flatten\n",
        "\n",
        "colab = True\n",
        "student = True"
      ]
    },
    {
      "cell_type": "markdown",
      "metadata": {
        "id": "v5Yp4OQVvUtr"
      },
      "source": [
        "## Parameters of the model\n",
        "\n",
        "-  We only consider the ```top_words``` first words in the word dictionary\n",
        "- We truncate/zero-pad each sequence a length ```max_review_length```"
      ]
    },
    {
      "cell_type": "markdown",
      "source": [],
      "metadata": {
        "id": "ca8XkEkGXCDH"
      }
    },
    {
      "cell_type": "code",
      "execution_count": 42,
      "metadata": {
        "id": "4C_Pv7rYvRkM"
      },
      "outputs": [],
      "source": [
        "top_words = 5000\n",
        "max_review_length = 100\n",
        "INDEX_FROM = 3\n",
        "embedding_vector_length = 32"
      ]
    },
    {
      "cell_type": "markdown",
      "metadata": {
        "id": "ZsNcRimyLzgP"
      },
      "source": [
        "## Import IMDB data"
      ]
    },
    {
      "cell_type": "code",
      "execution_count": 43,
      "metadata": {
        "id": "82dMfknplQYJ"
      },
      "outputs": [],
      "source": [
        "# --- Import the IMDB data and only consider the ``top_words``` most used words\n",
        "np.load.__defaults__=(None, True, True, 'ASCII')\n",
        "(X_train, y_train), (X_test, y_test) = imdb.load_data(num_words=top_words, index_from=INDEX_FROM)\n",
        "np.load.__defaults__=(None, False, True, 'ASCII')"
      ]
    },
    {
      "cell_type": "markdown",
      "metadata": {
        "id": "iSc5LmksOLyr"
      },
      "source": [
        "## Data content\n",
        "\n",
        "- ```X_train``` and ```X_test``` are numpy arrays of lists.\n",
        "  - each item in a list is the index in the word dictionary. So that a list is the sequence of index of words.\n",
        "\n",
        "- ```y_train``` and ```y_test``` are a numpy arrays of the same dimension as ```X_train``` and ```X_test```\n",
        "  - they contains the values 0 (bad movie) or 1 (good movie)"
      ]
    },
    {
      "cell_type": "code",
      "execution_count": 44,
      "metadata": {
        "id": "WouODCPrtiuu",
        "colab": {
          "base_uri": "https://localhost:8080/",
          "height": 579
        },
        "outputId": "8d0b6d16-6369-4dbe-ea42-329d8490c3b9"
      },
      "outputs": [
        {
          "output_type": "stream",
          "name": "stdout",
          "text": [
            "type(X_train): <class 'numpy.ndarray'>\n",
            "number of training sequences: X_train.shape: (25000,)\n",
            "type(X_train[0]): <class 'list'>\n",
            "length of the first training sequence: len(X_train[0]): 218\n",
            "length of the second training sequence: len(X_train[1]): 189\n",
            "list of data of the first training sequence: X_train[0]: [1, 14, 22, 16, 43, 530, 973, 1622, 1385, 65, 458, 4468, 66, 3941, 4, 173, 36, 256, 5, 25, 100, 43, 838, 112, 50, 670, 2, 9, 35, 480, 284, 5, 150, 4, 172, 112, 167, 2, 336, 385, 39, 4, 172, 4536, 1111, 17, 546, 38, 13, 447, 4, 192, 50, 16, 6, 147, 2025, 19, 14, 22, 4, 1920, 4613, 469, 4, 22, 71, 87, 12, 16, 43, 530, 38, 76, 15, 13, 1247, 4, 22, 17, 515, 17, 12, 16, 626, 18, 2, 5, 62, 386, 12, 8, 316, 8, 106, 5, 4, 2223, 2, 16, 480, 66, 3785, 33, 4, 130, 12, 16, 38, 619, 5, 25, 124, 51, 36, 135, 48, 25, 1415, 33, 6, 22, 12, 215, 28, 77, 52, 5, 14, 407, 16, 82, 2, 8, 4, 107, 117, 2, 15, 256, 4, 2, 7, 3766, 5, 723, 36, 71, 43, 530, 476, 26, 400, 317, 46, 7, 4, 2, 1029, 13, 104, 88, 4, 381, 15, 297, 98, 32, 2071, 56, 26, 141, 6, 194, 2, 18, 4, 226, 22, 21, 134, 476, 26, 480, 5, 144, 30, 2, 18, 51, 36, 28, 224, 92, 25, 104, 4, 226, 65, 16, 38, 1334, 88, 12, 16, 283, 5, 16, 4472, 113, 103, 32, 15, 16, 2, 19, 178, 32]\n",
            "maximum length of a training sequence: 2494\n"
          ]
        },
        {
          "output_type": "display_data",
          "data": {
            "text/plain": [
              "<Figure size 640x480 with 1 Axes>"
            ],
            "image/png": "[encoded data removed]"
          },
          "metadata": {}
        }
      ],
      "source": [
        "print(\"type(X_train):\", type(X_train))\n",
        "print(\"number of training sequences: X_train.shape:\", X_train.shape)\n",
        "print(\"type(X_train[0]):\",type(X_train[0]))\n",
        "print(\"length of the first training sequence: len(X_train[0]):\",len(X_train[0]))\n",
        "print(\"length of the second training sequence: len(X_train[1]):\",len(X_train[1]))\n",
        "print(\"list of data of the first training sequence: X_train[0]:\", X_train[0] )\n",
        "len_list = [len(train) for train in X_train]\n",
        "print(\"maximum length of a training sequence:\", max(len_list))\n",
        "\n",
        "import matplotlib.pyplot as plt\n",
        "plt.hist(len_list, 100);"
      ]
    },
    {
      "cell_type": "markdown",
      "metadata": {
        "id": "2I-cEKUh_HM4"
      },
      "source": [
        "## Details of how the reviews are encoded"
      ]
    },
    {
      "cell_type": "code",
      "execution_count": 45,
      "metadata": {
        "id": "XcOwiMUT_HM5",
        "colab": {
          "base_uri": "https://localhost:8080/"
        },
        "outputId": "2408bc7d-eed4-4ab8-9108-1d9035d28952"
      },
      "outputs": [
        {
          "output_type": "stream",
          "name": "stdout",
          "text": [
            "<START> although i had seen <UNK> in a theater way back in <UNK> i couldn't remember anything of the plot except for vague images of kurt thomas running and fighting against a backdrop of stone walls and disappointment regarding the ending br br after reading some of the other reviews i picked up a copy of the newly released dvd to once again enter the world of <UNK> br br it turns out this is one of those films produced during the <UNK> that would go directly to video today the film stars <UNK> <UNK> kurt thomas as jonathan <UNK> <UNK> out of the blue to <UNK> the nation of <UNK> to enter and hopefully win the game a <UNK> <UNK> <UNK> by the khan who <UNK> his people by yelling what sounds like <UNK> power the goal of the mission involves the star wars defense system jonathan is trained in the martial arts by princess <UNK> who never speaks or leaves the house once trained tries to blend in with the <UNK> by wearing a bright red <UNK> with <UNK> of blue and white needless to say <UNK> finds himself running and fighting for his life along the stone streets of <UNK> on his way to a date with destiny and the game br br star kurt thomas was ill served by director robert <UNK> who it looks like was never on the set the so called script is just this side of incompetent see other reviews for the many <UNK> throughout the town of <UNK> has a few good moments but is ultimately ruined by bad editing the ending <UNK> still there's the <UNK> of a good action adventure here a hong kong version with more <UNK> action and faster pace might even be pretty good\n"
          ]
        }
      ],
      "source": [
        "word_to_id = imdb.get_word_index()\n",
        "word_to_id = {k:(v+INDEX_FROM) for k,v in word_to_id.items()}\n",
        "word_to_id[\"<PAD>\"] = 0\n",
        "word_to_id[\"<START>\"] = 1\n",
        "word_to_id[\"<UNK>\"] = 2\n",
        "\n",
        "id_to_word = {value:key for key,value in word_to_id.items()}\n",
        "print(' '.join(id_to_word[id] for id in X_train[1000] ))"
      ]
    },
    {
      "cell_type": "code",
      "execution_count": 46,
      "metadata": {
        "id": "Hfl42LGCugWB",
        "colab": {
          "base_uri": "https://localhost:8080/"
        },
        "outputId": "10fc603b-ec29-401a-ef81-e6356e6bc67f"
      },
      "outputs": [
        {
          "output_type": "stream",
          "name": "stdout",
          "text": [
            "type(y_train): <class 'numpy.ndarray'>\n",
            "y_train.shape: (25000,)\n"
          ]
        }
      ],
      "source": [
        "print(\"type(y_train):\", type(y_train))\n",
        "print(\"y_train.shape:\", y_train.shape)"
      ]
    },
    {
      "cell_type": "code",
      "execution_count": 47,
      "metadata": {
        "id": "iVw65PNNuobX",
        "colab": {
          "base_uri": "https://localhost:8080/"
        },
        "outputId": "9978de26-56de-4eff-843a-51959ec0fc73"
      },
      "outputs": [
        {
          "output_type": "stream",
          "name": "stdout",
          "text": [
            "X_test.shape: (25000,)\n",
            "y_test.shape: (25000,)\n"
          ]
        }
      ],
      "source": [
        "print(\"X_test.shape:\", X_test.shape)\n",
        "print(\"y_test.shape:\", y_test.shape)"
      ]
    },
    {
      "cell_type": "markdown",
      "metadata": {
        "id": "V18OA7oQNH3c"
      },
      "source": [
        "## Data processing\n",
        "\n",
        "Sequences (represented as a list of values) in ```X_train``` represent the reviews.\n",
        "They can have different length.\n",
        "To train the network we should modify them so that they all have the same length.\n",
        "We do this by:\n",
        "- truncating the ones that are too long\n",
        "- padding-with-zero them the ones that are too short.\n",
        "\n",
        "This is obtained using ```sequence.pad_sequences``` of keras."
      ]
    },
    {
      "cell_type": "code",
      "execution_count": 48,
      "metadata": {
        "id": "JhmiHsOGoRwT",
        "colab": {
          "base_uri": "https://localhost:8080/"
        },
        "outputId": "04d9b339-691f-4da0-c797-c24778dfd04e"
      },
      "outputs": [
        {
          "output_type": "stream",
          "name": "stdout",
          "text": [
            "len(X_train[0]): 218\n",
            "len(X_train[1]): 189\n",
            "X_train[0]:\n",
            " [1, 14, 22, 16, 43, 530, 973, 1622, 1385, 65, 458, 4468, 66, 3941, 4, 173, 36, 256, 5, 25, 100, 43, 838, 112, 50, 670, 2, 9, 35, 480, 284, 5, 150, 4, 172, 112, 167, 2, 336, 385, 39, 4, 172, 4536, 1111, 17, 546, 38, 13, 447, 4, 192, 50, 16, 6, 147, 2025, 19, 14, 22, 4, 1920, 4613, 469, 4, 22, 71, 87, 12, 16, 43, 530, 38, 76, 15, 13, 1247, 4, 22, 17, 515, 17, 12, 16, 626, 18, 2, 5, 62, 386, 12, 8, 316, 8, 106, 5, 4, 2223, 2, 16, 480, 66, 3785, 33, 4, 130, 12, 16, 38, 619, 5, 25, 124, 51, 36, 135, 48, 25, 1415, 33, 6, 22, 12, 215, 28, 77, 52, 5, 14, 407, 16, 82, 2, 8, 4, 107, 117, 2, 15, 256, 4, 2, 7, 3766, 5, 723, 36, 71, 43, 530, 476, 26, 400, 317, 46, 7, 4, 2, 1029, 13, 104, 88, 4, 381, 15, 297, 98, 32, 2071, 56, 26, 141, 6, 194, 2, 18, 4, 226, 22, 21, 134, 476, 26, 480, 5, 144, 30, 2, 18, 51, 36, 28, 224, 92, 25, 104, 4, 226, 65, 16, 38, 1334, 88, 12, 16, 283, 5, 16, 4472, 113, 103, 32, 15, 16, 2, 19, 178, 32]\n",
            "len(X_train[0]): 100\n",
            "len(X_train[1]): 100\n",
            "X_train[0]:\n",
            " [   1   14   22   16   43  530  973 1622 1385   65  458 4468   66 3941\n",
            "    4  173   36  256    5   25  100   43  838  112   50  670    2    9\n",
            "   35  480  284    5  150    4  172  112  167    2  336  385   39    4\n",
            "  172 4536 1111   17  546   38   13  447    4  192   50   16    6  147\n",
            " 2025   19   14   22    4 1920 4613  469    4   22   71   87   12   16\n",
            "   43  530   38   76   15   13 1247    4   22   17  515   17   12   16\n",
            "  626   18    2    5   62  386   12    8  316    8  106    5    4 2223\n",
            "    2   16]\n"
          ]
        }
      ],
      "source": [
        "# --- truncate and pad input sequences\n",
        "print(\"len(X_train[0]):\", len(X_train[0]))\n",
        "print(\"len(X_train[1]):\", len(X_train[1]))\n",
        "print(\"X_train[0]:\\n\", X_train[0])\n",
        "\n",
        "if student:\n",
        "    # --- START CODE HERE (01)\n",
        "    X_train = sequence.pad_sequences(X_train, maxlen=max_review_length,\n",
        "                                     dtype='int32', padding='post',\n",
        "                                     truncating='post', value=0.0)\n",
        "    X_test  = sequence.pad_sequences(X_test, maxlen=max_review_length,\n",
        "                                     dtype='int32', padding='post',\n",
        "                                     truncating='post', value=0.0)\n",
        "    # --- END CODE HERE\n",
        "\n",
        "print(\"len(X_train[0]):\", len(X_train[0]))\n",
        "print(\"len(X_train[1]):\", len(X_train[1]))\n",
        "print(\"X_train[0]:\\n\", X_train[0])"
      ]
    },
    {
      "cell_type": "markdown",
      "metadata": {
        "id": "YlrDTuk5K65Q"
      },
      "source": [
        "# First model\n",
        "\n",
        "<img src=\"https://perso.telecom-paristech.fr/gpeeters/doc/Lab_DL_RNN_01.png\">\n",
        "\n",
        "In the first model, we will simply\n",
        "- learn a word embedding  (```Embedding``` layer in keras) and apply it to each item of the sequence,\n",
        "  -  in keras, embedding is not a matrix going from one-hot-encoding to embedding, but is a layer that goes from index-in-word-dictionary to embedding\n",
        "  - the embedding goes from ```top_words``` dimensions to  ```embedding_vector_length``` dimensions\n",
        "- average the embedding obtained for each word of a sequence over all words of the sequence (you should use ```K.mean``` and ```Lambda``` from the keras backend)\n",
        "- apply a fully connected (```Dense``` layer in keras) which output activation is a sigmoid (predicting the 0 or 1 rating)\n",
        "\n",
        "We will code this model\n",
        "- First, using the Sequential API of keras (https://keras.io/models/sequential/)\n",
        "- Secondly, using the Functional API of keras (https://keras.io/getting-started/functional-api-guide/)\n"
      ]
    },
    {
      "cell_type": "code",
      "execution_count": 49,
      "metadata": {
        "id": "ufW00TGcs3Jj"
      },
      "outputs": [],
      "source": [
        "K.clear_session()"
      ]
    },
    {
      "cell_type": "code",
      "source": [
        "print(\"type(y_train):\", type(y_train))\n",
        "print(\"number of training sequences: y_train.shape:\", y_train.shape)\n",
        "print(\"type(y_train[0]):\",type(y_train[0]))"
      ],
      "metadata": {
        "id": "ENOqzYyzqc9s",
        "colab": {
          "base_uri": "https://localhost:8080/"
        },
        "outputId": "49fa471b-5049-409c-dca9-4067e761103d"
      },
      "execution_count": 50,
      "outputs": [
        {
          "output_type": "stream",
          "name": "stdout",
          "text": [
            "type(y_train): <class 'numpy.ndarray'>\n",
            "number of training sequences: y_train.shape: (25000,)\n",
            "type(y_train[0]): <class 'numpy.int64'>\n"
          ]
        }
      ]
    },
    {
      "cell_type": "code",
      "execution_count": 51,
      "metadata": {
        "id": "zspaUptgtW9l",
        "colab": {
          "base_uri": "https://localhost:8080/"
        },
        "outputId": "8131322e-4e5a-4b8e-e21f-973c755a7746"
      },
      "outputs": [
        {
          "output_type": "stream",
          "name": "stdout",
          "text": [
            "Model: \"sequential\"\n",
            "_________________________________________________________________\n",
            " Layer (type)                Output Shape              Param #   \n",
            "=================================================================\n",
            " embedding (Embedding)       (None, 100, 32)           160000    \n",
            "                                                                 \n",
            " lambda (Lambda)             (None, 32)                0         \n",
            "                                                                 \n",
            " dense (Dense)               (None, 1)                 33        \n",
            "                                                                 \n",
            "=================================================================\n",
            "Total params: 160033 (625.13 KB)\n",
            "Trainable params: 160033 (625.13 KB)\n",
            "Non-trainable params: 0 (0.00 Byte)\n",
            "_________________________________________________________________\n",
            "None\n"
          ]
        }
      ],
      "source": [
        "# --- create the model\n",
        "# CODE-RNN1-2\n",
        "type_of_model = \"Sequential\"\n",
        "if student:\n",
        "    if type_of_model == \"Sequential\" :\n",
        "\n",
        "      # --- Using the Sequential API\n",
        "        # --- START CODE HERE (02)\n",
        "\n",
        "        model = Sequential()\n",
        "        model.add(Embedding(input_dim=top_words, output_dim=embedding_vector_length, input_length=X_train.shape[1]))\n",
        "        model.add(Lambda(lambda x: K.mean(x, axis=1)))\n",
        "        model.add(Dense(1, activation='sigmoid'))\n",
        "\n",
        "        # --- END CODE HERE\n",
        "    else :\n",
        "\n",
        "      # --- Using the Functional API\n",
        "        # --- START CODE HERE (03)\n",
        "\n",
        "        input_layer = Input(shape=(X_train.shape[1],))\n",
        "        embedding_layer = Embedding(input_dim=top_words, output_dim=embedding_vector_length)(input_layer)\n",
        "        dense_layer1 = Lambda(lambda x: K.mean(x, axis=1))(embedding_layer)\n",
        "        output_layer = Dense(1, activation='sigmoid')(dense_layer1)\n",
        "\n",
        "        model = Model(inputs=input_layer, outputs=output_layer)\n",
        "        # --- END CODE HERE\n",
        "\n",
        "print(model.summary())"
      ]
    },
    {
      "cell_type": "code",
      "execution_count": 52,
      "metadata": {
        "id": "pFXz4AS6tawQ",
        "colab": {
          "base_uri": "https://localhost:8080/"
        },
        "outputId": "139eede3-9282-4ea3-9428-e3035700f31c"
      },
      "outputs": [
        {
          "output_type": "stream",
          "name": "stdout",
          "text": [
            "Epoch 1/3\n",
            "391/391 [==============================] - 23s 58ms/step - loss: 0.6467 - accuracy: 0.7048 - val_loss: 0.5850 - val_accuracy: 0.7417\n",
            "Epoch 2/3\n",
            "391/391 [==============================] - 6s 16ms/step - loss: 0.5153 - accuracy: 0.7874 - val_loss: 0.4815 - val_accuracy: 0.7943\n",
            "Epoch 3/3\n",
            "391/391 [==============================] - 5s 12ms/step - loss: 0.4308 - accuracy: 0.8218 - val_loss: 0.4336 - val_accuracy: 0.8069\n"
          ]
        }
      ],
      "source": [
        "# --- compile and fit the model\n",
        "model.compile(loss='binary_crossentropy', optimizer='adam', metrics=['accuracy'])\n",
        "history = model.fit(X_train, y_train, epochs=3, batch_size=64, validation_data=(X_test, y_test))"
      ]
    },
    {
      "cell_type": "markdown",
      "metadata": {
        "id": "SBqyzLJRUIsC"
      },
      "source": [
        "## Results\n",
        "\n",
        "After only 3 epochs, you should obtain an accuracy around 83-84% for the test data."
      ]
    },
    {
      "cell_type": "code",
      "source": [
        "plt.figure(figsize=(14,6))\n",
        "plt.subplot(1,2,1)\n",
        "plt.plot(history.history['loss'], label='train');\n",
        "plt.plot(history.history['val_loss'], label='valid');\n",
        "plt.grid(True);\n",
        "plt.legend();\n",
        "plt.title('Loss')\n",
        "\n",
        "\n",
        "plt.subplot(1,2,2)\n",
        "plt.plot(history.history['accuracy'], label='train');\n",
        "plt.plot(history.history['val_accuracy'], label='valid');\n",
        "plt.grid(True);\n",
        "plt.legend();\n",
        "plt.title('Accuracy')"
      ],
      "metadata": {
        "colab": {
          "base_uri": "https://localhost:8080/",
          "height": 563
        },
        "id": "bEOtI0Gy1JfG",
        "outputId": "88436fc0-58e7-4118-da1b-c99cf8078bc2"
      },
      "execution_count": 53,
      "outputs": [
        {
          "output_type": "execute_result",
          "data": {
            "text/plain": [
              "Text(0.5, 1.0, 'Accuracy')"
            ]
          },
          "metadata": {},
          "execution_count": 53
        },
        {
          "output_type": "display_data",
          "data": {
            "text/plain": [
              "<Figure size 1400x600 with 2 Axes>"
            ],
            "image/png": "[encoded data removed]"
          },
          "metadata": {}
        }
      ]
    },
    {
      "cell_type": "code",
      "execution_count": 54,
      "metadata": {
        "id": "nCALyP-Q_HNH",
        "colab": {
          "base_uri": "https://localhost:8080/"
        },
        "outputId": "c84ab036-cce4-4a14-d043-3d44e48205c5"
      },
      "outputs": [
        {
          "output_type": "stream",
          "name": "stdout",
          "text": [
            "Accuracy: 80.69%\n"
          ]
        }
      ],
      "source": [
        "# --- Final evaluation of the model\n",
        "scores = model.evaluate(X_test, y_test, verbose=0)\n",
        "print(\"Accuracy: %.2f%%\" % (scores[1]*100))"
      ]
    },
    {
      "cell_type": "markdown",
      "metadata": {
        "id": "uRP-h4Xr_HNJ"
      },
      "source": [
        "## Using the trained embedding to find equivalence between words\n",
        "\n",
        "Since the embedding is part of the models, we can look at the trained embedding matrix $E$ and use it to get the most similar words (according to the trained matrix $E$) in the dictionary.\n",
        "Use the weights of the ```Embedding``` layer to find the most similar words to ```great```. We will use an Euclidean distance for that.\n",
        "- Retrieve the weights of the ```Embedding layer```\n",
        "- Get the position of ```great``` in the dictionary\n",
        "- Get the word-embedding of ```great```\n",
        "- Find (using Euclidean distance), the closest embedded-words to ```great```"
      ]
    },
    {
      "cell_type": "code",
      "source": [
        "model.layers[0].get_weights()[0].shape"
      ],
      "metadata": {
        "id": "80kbJi1duJay",
        "colab": {
          "base_uri": "https://localhost:8080/"
        },
        "outputId": "d373e8e7-1c19-4536-bbfb-feeae8ed7020"
      },
      "execution_count": 55,
      "outputs": [
        {
          "output_type": "execute_result",
          "data": {
            "text/plain": [
              "(5000, 32)"
            ]
          },
          "metadata": {},
          "execution_count": 55
        }
      ]
    },
    {
      "cell_type": "code",
      "execution_count": 56,
      "metadata": {
        "id": "7xMubRqJ_HNJ",
        "colab": {
          "base_uri": "https://localhost:8080/"
        },
        "outputId": "28df1833-51e5-4aa0-9776-a9e98fcaf8b5"
      },
      "outputs": [
        {
          "output_type": "stream",
          "name": "stdout",
          "text": [
            "['best', 'wonderful', 'amazing', 'excellent', 'loved', 'superb', 'perfect', 'favorite', 'fantastic', 'wonderfully']\n"
          ]
        }
      ],
      "source": [
        "if student:\n",
        "    # --- START CODE HERE (04)\n",
        "    # retrieve weights of the embedding layer\n",
        "    E = model.layers[0].get_weights()[0]\n",
        "    # Get the position of great in the dictionary\n",
        "    position_to_find  = word_to_id[\"great\"]\n",
        "    # Get the word-embedding of great\n",
        "    embedding_to_find = E[position_to_find]\n",
        "\n",
        "    from sklearn.metrics.pairwise import euclidean_distances\n",
        "    # compute the euclidian distance between the embedding of the word and the E matrix\n",
        "    distances = euclidean_distances(X=E, Y=embedding_to_find.reshape(1, E.shape[1]))\n",
        "    list_word_dist = sorted([(i, distances[i][0]) for i in range(top_words)],key=lambda x: x[1])\n",
        "    list_closest = [id_to_word[x[0]] for x in list_word_dist[1:10+1]]\n",
        "    # --- END CODE HERE\n",
        "print(list_closest)\n"
      ]
    },
    {
      "cell_type": "markdown",
      "metadata": {
        "id": "zK9e5Eo1Ks2a"
      },
      "source": [
        "# Second model\n",
        "\n",
        "In the second model, we will replace\n",
        "- the average over the sequence of the obtained embedding\n",
        "- by a RNN layer (more precisely an ```LSTM```) in a Many-To-One configuration with $n_a=128$\n",
        "\n",
        "We will code this model\n",
        "- First, using the Sequential API of keras (https://keras.io/models/sequential/)\n",
        "- Secondly, using the Functional API of keras (https://keras.io/getting-started/functional-api-guide/)\n",
        "\n"
      ]
    },
    {
      "cell_type": "code",
      "execution_count": 65,
      "metadata": {
        "id": "rwoXuOqqVDOy"
      },
      "outputs": [],
      "source": [
        "K.clear_session()"
      ]
    },
    {
      "cell_type": "code",
      "execution_count": 66,
      "metadata": {
        "id": "7dl-CSMKoViX",
        "colab": {
          "base_uri": "https://localhost:8080/"
        },
        "outputId": "95a86727-6469-4a5b-d98b-abbc5bdec020"
      },
      "outputs": [
        {
          "output_type": "stream",
          "name": "stdout",
          "text": [
            "Model: \"sequential\"\n",
            "_________________________________________________________________\n",
            " Layer (type)                Output Shape              Param #   \n",
            "=================================================================\n",
            " embedding (Embedding)       (None, 100, 32)           160000    \n",
            "                                                                 \n",
            " lstm (LSTM)                 (None, 32)                8320      \n",
            "                                                                 \n",
            " dense (Dense)               (None, 1)                 33        \n",
            "                                                                 \n",
            "=================================================================\n",
            "Total params: 168353 (657.63 KB)\n",
            "Trainable params: 168353 (657.63 KB)\n",
            "Non-trainable params: 0 (0.00 Byte)\n",
            "_________________________________________________________________\n",
            "None\n"
          ]
        }
      ],
      "source": [
        "# --- create the model\n",
        "type_of_model = \"Sequential\"\n",
        "\n",
        "if student:\n",
        "    # --- START CODE HERE (05)\n",
        "    if type_of_model == \"Sequential\" :\n",
        "\n",
        "        # --- Using the Sequential API\n",
        "        model = Sequential()\n",
        "        # Add an Embedding layer\n",
        "        model.add(Embedding(input_dim=top_words, output_dim=embedding_vector_length, input_length=X_train.shape[1]))\n",
        "\n",
        "        # Add a LSTM layer with 128 internal units.\n",
        "        model.add(LSTM(embedding_vector_length, activation='tanh',\n",
        "                     recurrent_activation='sigmoid',use_bias=True))\n",
        "\n",
        "        # Add a Dense layer with 10 units.\n",
        "        model.add(Dense(1, activation='sigmoid'))\n",
        "\n",
        "    # --- END CODE HERE\n",
        "\n",
        "    else :\n",
        "\n",
        "      # --- Using the Functional API\n",
        "        # --- START CODE HERE (03)\n",
        "\n",
        "        input_layer = Input(shape=(X_train.shape[1],))\n",
        "        embedding_layer = Embedding(input_dim=top_words, output_dim=embedding_vector_length)(input_layer)\n",
        "        dense_layer1 = LSTM(embedding_vector_length(embedding_vector_length, activation='tanh',\n",
        "                     recurrent_activation='sigmoid',use_bias=True))(embedding_layer)\n",
        "        output_layer = Dense(1, activation='sigmoid')(dense_layer1)\n",
        "\n",
        "        model = Model(inputs=input_layer, outputs=output_layer)\n",
        "        # --- END CODE HERE\n",
        "\n",
        "print(model.summary())\n",
        "\n",
        "\n"
      ]
    },
    {
      "cell_type": "code",
      "execution_count": 67,
      "metadata": {
        "id": "-bp7PzX7oXtB",
        "scrolled": true,
        "colab": {
          "base_uri": "https://localhost:8080/"
        },
        "outputId": "b8fbefa6-bac4-4b3f-9a57-73164765efb4"
      },
      "outputs": [
        {
          "output_type": "stream",
          "name": "stdout",
          "text": [
            "Epoch 1/3\n",
            "391/391 [==============================] - 27s 60ms/step - loss: 0.5018 - accuracy: 0.7420 - val_loss: 0.4139 - val_accuracy: 0.8139\n",
            "Epoch 2/3\n",
            "391/391 [==============================] - 7s 19ms/step - loss: 0.3522 - accuracy: 0.8528 - val_loss: 0.4386 - val_accuracy: 0.7948\n",
            "Epoch 3/3\n",
            "391/391 [==============================] - 7s 17ms/step - loss: 0.3112 - accuracy: 0.8713 - val_loss: 0.4596 - val_accuracy: 0.8103\n"
          ]
        },
        {
          "output_type": "execute_result",
          "data": {
            "text/plain": [
              "<keras.src.callbacks.History at 0x791498cf9b10>"
            ]
          },
          "metadata": {},
          "execution_count": 67
        }
      ],
      "source": [
        "# --- compile and fit the model\n",
        "model.compile(loss='binary_crossentropy', optimizer='adam', metrics=['accuracy'])\n",
        "model.fit(X_train, y_train, epochs=3, batch_size=64, validation_data=(X_test, y_test))"
      ]
    },
    {
      "cell_type": "markdown",
      "metadata": {
        "id": "F1LN_fjMWBHJ"
      },
      "source": [
        "## Results\n",
        "\n",
        "After only 3 epochs, you should obtain an accuracy around 84-85% for the test data."
      ]
    },
    {
      "cell_type": "code",
      "execution_count": 68,
      "metadata": {
        "id": "RlMEKRbzoavm",
        "colab": {
          "base_uri": "https://localhost:8080/"
        },
        "outputId": "e345d6e5-922e-441c-de55-cb19c65f83b6"
      },
      "outputs": [
        {
          "output_type": "stream",
          "name": "stdout",
          "text": [
            "Accuracy: 81.03%\n"
          ]
        }
      ],
      "source": [
        "# --- Final evaluation of the model\n",
        "scores = model.evaluate(X_test, y_test, verbose=0)\n",
        "print(\"Accuracy: %.2f%%\" % (scores[1]*100))"
      ]
    },
    {
      "cell_type": "markdown",
      "metadata": {
        "id": "LVK5sGgF_HNX"
      },
      "source": [
        "# Evaluation\n",
        "\n",
        "To evaluate the work, you should rate the code for\n",
        "- 1) Data Pre-Processing (01)\n",
        "- 2) First model using the Sequential API (02)\n",
        "- 3) First model using the Functional API (03)\n",
        "- 4) Find equivalence between words (04)\n",
        "- 5) Second model using the Sequential API (05)\n",
        "- 6) Second model using the Functional API (06)\n"
      ]
    }
  ],
  "metadata": {
    "accelerator": "GPU",
    "colab": {
      "provenance": []
    },
    "kernelspec": {
      "display_name": "Python 3",
      "language": "python",
      "name": "python3"
    },
    "language_info": {
      "codemirror_mode": {
        "name": "ipython",
        "version": 3
      },
      "file_extension": ".py",
      "mimetype": "text/x-python",
      "name": "python",
      "nbconvert_exporter": "python",
      "pygments_lexer": "ipython3",
      "version": "3.8.5"
    },
    "toc": {
      "base_numbering": 1,
      "nav_menu": {},
      "number_sections": true,
      "sideBar": true,
      "skip_h1_title": false,
      "title_cell": "Table of Contents",
      "title_sidebar": "Contents",
      "toc_cell": false,
      "toc_position": {},
      "toc_section_display": true,
      "toc_window_display": false
    }
  },
  "nbformat": 4,
  "nbformat_minor": 0
}